{
 "cells": [
  {
   "cell_type": "markdown",
   "id": "seeing-combining",
   "metadata": {},
   "source": [
    "# Data Cleaning - Covid 19 Data Set (Source - Kaggle)"
   ]
  },
  {
   "cell_type": "code",
   "execution_count": 133,
   "id": "congressional-favorite",
   "metadata": {},
   "outputs": [],
   "source": [
    "import pandas as pd\n",
    "import numpy as np"
   ]
  },
  {
   "cell_type": "code",
   "execution_count": 134,
   "id": "appreciated-salvation",
   "metadata": {},
   "outputs": [],
   "source": [
    "df = pd.read_csv('covid_19_india.csv')"
   ]
  },
  {
   "cell_type": "code",
   "execution_count": 135,
   "id": "adjusted-outside",
   "metadata": {},
   "outputs": [
    {
     "data": {
      "text/html": [
       "<div>\n",
       "<style scoped>\n",
       "    .dataframe tbody tr th:only-of-type {\n",
       "        vertical-align: middle;\n",
       "    }\n",
       "\n",
       "    .dataframe tbody tr th {\n",
       "        vertical-align: top;\n",
       "    }\n",
       "\n",
       "    .dataframe thead th {\n",
       "        text-align: right;\n",
       "    }\n",
       "</style>\n",
       "<table border=\"1\" class=\"dataframe\">\n",
       "  <thead>\n",
       "    <tr style=\"text-align: right;\">\n",
       "      <th></th>\n",
       "      <th>Sno</th>\n",
       "      <th>Date</th>\n",
       "      <th>Time</th>\n",
       "      <th>State/UnionTerritory</th>\n",
       "      <th>ConfirmedIndianNational</th>\n",
       "      <th>ConfirmedForeignNational</th>\n",
       "      <th>Cured</th>\n",
       "      <th>Deaths</th>\n",
       "      <th>Confirmed</th>\n",
       "    </tr>\n",
       "  </thead>\n",
       "  <tbody>\n",
       "    <tr>\n",
       "      <th>0</th>\n",
       "      <td>1.0</td>\n",
       "      <td>2020-01-30</td>\n",
       "      <td>6:00 PM</td>\n",
       "      <td>Kerala</td>\n",
       "      <td>1</td>\n",
       "      <td>0</td>\n",
       "      <td>0.0</td>\n",
       "      <td>0.0</td>\n",
       "      <td>1.0</td>\n",
       "    </tr>\n",
       "    <tr>\n",
       "      <th>1</th>\n",
       "      <td>2.0</td>\n",
       "      <td>2020-01-31</td>\n",
       "      <td>6:00 PM</td>\n",
       "      <td>Kerala</td>\n",
       "      <td>1</td>\n",
       "      <td>0</td>\n",
       "      <td>0.0</td>\n",
       "      <td>0.0</td>\n",
       "      <td>1.0</td>\n",
       "    </tr>\n",
       "    <tr>\n",
       "      <th>2</th>\n",
       "      <td>3.0</td>\n",
       "      <td>2020-02-01</td>\n",
       "      <td>6:00 PM</td>\n",
       "      <td>Kerala</td>\n",
       "      <td>2</td>\n",
       "      <td>0</td>\n",
       "      <td>0.0</td>\n",
       "      <td>0.0</td>\n",
       "      <td>2.0</td>\n",
       "    </tr>\n",
       "    <tr>\n",
       "      <th>3</th>\n",
       "      <td>4.0</td>\n",
       "      <td>2020-02-02</td>\n",
       "      <td>6:00 PM</td>\n",
       "      <td>Kerala</td>\n",
       "      <td>3</td>\n",
       "      <td>0</td>\n",
       "      <td>0.0</td>\n",
       "      <td>0.0</td>\n",
       "      <td>3.0</td>\n",
       "    </tr>\n",
       "    <tr>\n",
       "      <th>4</th>\n",
       "      <td>5.0</td>\n",
       "      <td>2020-02-03</td>\n",
       "      <td>6:00 PM</td>\n",
       "      <td>Kerala</td>\n",
       "      <td>3</td>\n",
       "      <td>0</td>\n",
       "      <td>0.0</td>\n",
       "      <td>0.0</td>\n",
       "      <td>3.0</td>\n",
       "    </tr>\n",
       "  </tbody>\n",
       "</table>\n",
       "</div>"
      ],
      "text/plain": [
       "   Sno        Date     Time State/UnionTerritory ConfirmedIndianNational  \\\n",
       "0  1.0  2020-01-30  6:00 PM               Kerala                       1   \n",
       "1  2.0  2020-01-31  6:00 PM               Kerala                       1   \n",
       "2  3.0  2020-02-01  6:00 PM               Kerala                       2   \n",
       "3  4.0  2020-02-02  6:00 PM               Kerala                       3   \n",
       "4  5.0  2020-02-03  6:00 PM               Kerala                       3   \n",
       "\n",
       "  ConfirmedForeignNational  Cured  Deaths  Confirmed  \n",
       "0                        0    0.0     0.0        1.0  \n",
       "1                        0    0.0     0.0        1.0  \n",
       "2                        0    0.0     0.0        2.0  \n",
       "3                        0    0.0     0.0        3.0  \n",
       "4                        0    0.0     0.0        3.0  "
      ]
     },
     "execution_count": 135,
     "metadata": {},
     "output_type": "execute_result"
    }
   ],
   "source": [
    "df.head()"
   ]
  },
  {
   "cell_type": "code",
   "execution_count": 136,
   "id": "stuffed-allah",
   "metadata": {},
   "outputs": [
    {
     "name": "stdout",
     "output_type": "stream",
     "text": [
      "<class 'pandas.core.frame.DataFrame'>\n",
      "RangeIndex: 15114 entries, 0 to 15113\n",
      "Data columns (total 9 columns):\n",
      " #   Column                    Non-Null Count  Dtype  \n",
      "---  ------                    --------------  -----  \n",
      " 0   Sno                       15086 non-null  float64\n",
      " 1   Date                      15086 non-null  object \n",
      " 2   Time                      15086 non-null  object \n",
      " 3   State/UnionTerritory      15086 non-null  object \n",
      " 4   ConfirmedIndianNational   15086 non-null  object \n",
      " 5   ConfirmedForeignNational  15086 non-null  object \n",
      " 6   Cured                     15086 non-null  float64\n",
      " 7   Deaths                    15086 non-null  float64\n",
      " 8   Confirmed                 15086 non-null  float64\n",
      "dtypes: float64(4), object(5)\n",
      "memory usage: 1.0+ MB\n"
     ]
    }
   ],
   "source": [
    "df.info()"
   ]
  },
  {
   "cell_type": "code",
   "execution_count": 138,
   "id": "dying-gabriel",
   "metadata": {},
   "outputs": [
    {
     "data": {
      "text/plain": [
       "array(['Kerala', 'Telengana', 'Delhi', 'Rajasthan', 'Uttar Pradesh',\n",
       "       'Haryana', 'Ladakh', 'Tamil Nadu', 'Karnataka', 'Maharashtra',\n",
       "       'Punjab', 'Jammu and Kashmir', 'Andhra Pradesh', 'Uttarakhand',\n",
       "       'Odisha', 'Puducherry', 'West Bengal', 'Chhattisgarh',\n",
       "       'Chandigarh', 'Gujarat', 'Himachal Pradesh', 'Madhya Pradesh',\n",
       "       'Bihar', 'Manipur', 'Mizoram', 'Andaman and Nicobar Islands',\n",
       "       'Goa', 'Unassigned', 'Assam', 'Jharkhand', 'Arunachal Pradesh',\n",
       "       'Tripura', 'Nagaland', 'Meghalaya',\n",
       "       'Dadra and Nagar Haveli and Daman and Diu',\n",
       "       'Cases being reassigned to states', 'Sikkim', 'Daman & Diu',\n",
       "       'Lakshadweep', 'Telangana', nan], dtype=object)"
      ]
     },
     "execution_count": 138,
     "metadata": {},
     "output_type": "execute_result"
    }
   ],
   "source": [
    "df['State/UnionTerritory'].unique()"
   ]
  },
  {
   "cell_type": "code",
   "execution_count": 140,
   "id": "scientific-malawi",
   "metadata": {},
   "outputs": [
    {
     "data": {
      "text/html": [
       "<div>\n",
       "<style scoped>\n",
       "    .dataframe tbody tr th:only-of-type {\n",
       "        vertical-align: middle;\n",
       "    }\n",
       "\n",
       "    .dataframe tbody tr th {\n",
       "        vertical-align: top;\n",
       "    }\n",
       "\n",
       "    .dataframe thead th {\n",
       "        text-align: right;\n",
       "    }\n",
       "</style>\n",
       "<table border=\"1\" class=\"dataframe\">\n",
       "  <thead>\n",
       "    <tr style=\"text-align: right;\">\n",
       "      <th></th>\n",
       "      <th>Sno</th>\n",
       "      <th>Date</th>\n",
       "      <th>Time</th>\n",
       "      <th>State/UnionTerritory</th>\n",
       "      <th>ConfirmedIndianNational</th>\n",
       "      <th>ConfirmedForeignNational</th>\n",
       "      <th>Cured</th>\n",
       "      <th>Deaths</th>\n",
       "      <th>Confirmed</th>\n",
       "    </tr>\n",
       "  </thead>\n",
       "  <tbody>\n",
       "    <tr>\n",
       "      <th>0</th>\n",
       "      <td>False</td>\n",
       "      <td>False</td>\n",
       "      <td>False</td>\n",
       "      <td>False</td>\n",
       "      <td>False</td>\n",
       "      <td>False</td>\n",
       "      <td>False</td>\n",
       "      <td>False</td>\n",
       "      <td>False</td>\n",
       "    </tr>\n",
       "    <tr>\n",
       "      <th>1</th>\n",
       "      <td>False</td>\n",
       "      <td>False</td>\n",
       "      <td>False</td>\n",
       "      <td>False</td>\n",
       "      <td>False</td>\n",
       "      <td>False</td>\n",
       "      <td>False</td>\n",
       "      <td>False</td>\n",
       "      <td>False</td>\n",
       "    </tr>\n",
       "    <tr>\n",
       "      <th>2</th>\n",
       "      <td>False</td>\n",
       "      <td>False</td>\n",
       "      <td>False</td>\n",
       "      <td>False</td>\n",
       "      <td>False</td>\n",
       "      <td>False</td>\n",
       "      <td>False</td>\n",
       "      <td>False</td>\n",
       "      <td>False</td>\n",
       "    </tr>\n",
       "    <tr>\n",
       "      <th>3</th>\n",
       "      <td>False</td>\n",
       "      <td>False</td>\n",
       "      <td>False</td>\n",
       "      <td>False</td>\n",
       "      <td>False</td>\n",
       "      <td>False</td>\n",
       "      <td>False</td>\n",
       "      <td>False</td>\n",
       "      <td>False</td>\n",
       "    </tr>\n",
       "    <tr>\n",
       "      <th>4</th>\n",
       "      <td>False</td>\n",
       "      <td>False</td>\n",
       "      <td>False</td>\n",
       "      <td>False</td>\n",
       "      <td>False</td>\n",
       "      <td>False</td>\n",
       "      <td>False</td>\n",
       "      <td>False</td>\n",
       "      <td>False</td>\n",
       "    </tr>\n",
       "    <tr>\n",
       "      <th>...</th>\n",
       "      <td>...</td>\n",
       "      <td>...</td>\n",
       "      <td>...</td>\n",
       "      <td>...</td>\n",
       "      <td>...</td>\n",
       "      <td>...</td>\n",
       "      <td>...</td>\n",
       "      <td>...</td>\n",
       "      <td>...</td>\n",
       "    </tr>\n",
       "    <tr>\n",
       "      <th>15109</th>\n",
       "      <td>True</td>\n",
       "      <td>True</td>\n",
       "      <td>True</td>\n",
       "      <td>True</td>\n",
       "      <td>True</td>\n",
       "      <td>True</td>\n",
       "      <td>True</td>\n",
       "      <td>True</td>\n",
       "      <td>True</td>\n",
       "    </tr>\n",
       "    <tr>\n",
       "      <th>15110</th>\n",
       "      <td>True</td>\n",
       "      <td>True</td>\n",
       "      <td>True</td>\n",
       "      <td>True</td>\n",
       "      <td>True</td>\n",
       "      <td>True</td>\n",
       "      <td>True</td>\n",
       "      <td>True</td>\n",
       "      <td>True</td>\n",
       "    </tr>\n",
       "    <tr>\n",
       "      <th>15111</th>\n",
       "      <td>True</td>\n",
       "      <td>True</td>\n",
       "      <td>True</td>\n",
       "      <td>True</td>\n",
       "      <td>True</td>\n",
       "      <td>True</td>\n",
       "      <td>True</td>\n",
       "      <td>True</td>\n",
       "      <td>True</td>\n",
       "    </tr>\n",
       "    <tr>\n",
       "      <th>15112</th>\n",
       "      <td>True</td>\n",
       "      <td>True</td>\n",
       "      <td>True</td>\n",
       "      <td>True</td>\n",
       "      <td>True</td>\n",
       "      <td>True</td>\n",
       "      <td>True</td>\n",
       "      <td>True</td>\n",
       "      <td>True</td>\n",
       "    </tr>\n",
       "    <tr>\n",
       "      <th>15113</th>\n",
       "      <td>True</td>\n",
       "      <td>True</td>\n",
       "      <td>True</td>\n",
       "      <td>True</td>\n",
       "      <td>True</td>\n",
       "      <td>True</td>\n",
       "      <td>True</td>\n",
       "      <td>True</td>\n",
       "      <td>True</td>\n",
       "    </tr>\n",
       "  </tbody>\n",
       "</table>\n",
       "<p>15114 rows × 9 columns</p>\n",
       "</div>"
      ],
      "text/plain": [
       "         Sno   Date   Time  State/UnionTerritory  ConfirmedIndianNational  \\\n",
       "0      False  False  False                 False                    False   \n",
       "1      False  False  False                 False                    False   \n",
       "2      False  False  False                 False                    False   \n",
       "3      False  False  False                 False                    False   \n",
       "4      False  False  False                 False                    False   \n",
       "...      ...    ...    ...                   ...                      ...   \n",
       "15109   True   True   True                  True                     True   \n",
       "15110   True   True   True                  True                     True   \n",
       "15111   True   True   True                  True                     True   \n",
       "15112   True   True   True                  True                     True   \n",
       "15113   True   True   True                  True                     True   \n",
       "\n",
       "       ConfirmedForeignNational  Cured  Deaths  Confirmed  \n",
       "0                         False  False   False      False  \n",
       "1                         False  False   False      False  \n",
       "2                         False  False   False      False  \n",
       "3                         False  False   False      False  \n",
       "4                         False  False   False      False  \n",
       "...                         ...    ...     ...        ...  \n",
       "15109                      True   True    True       True  \n",
       "15110                      True   True    True       True  \n",
       "15111                      True   True    True       True  \n",
       "15112                      True   True    True       True  \n",
       "15113                      True   True    True       True  \n",
       "\n",
       "[15114 rows x 9 columns]"
      ]
     },
     "execution_count": 140,
     "metadata": {},
     "output_type": "execute_result"
    }
   ],
   "source": [
    "df.isna()"
   ]
  },
  {
   "cell_type": "code",
   "execution_count": 142,
   "id": "animal-seeker",
   "metadata": {},
   "outputs": [
    {
     "data": {
      "text/html": [
       "<div>\n",
       "<style scoped>\n",
       "    .dataframe tbody tr th:only-of-type {\n",
       "        vertical-align: middle;\n",
       "    }\n",
       "\n",
       "    .dataframe tbody tr th {\n",
       "        vertical-align: top;\n",
       "    }\n",
       "\n",
       "    .dataframe thead th {\n",
       "        text-align: right;\n",
       "    }\n",
       "</style>\n",
       "<table border=\"1\" class=\"dataframe\">\n",
       "  <thead>\n",
       "    <tr style=\"text-align: right;\">\n",
       "      <th></th>\n",
       "      <th>Sno</th>\n",
       "      <th>Date</th>\n",
       "      <th>Time</th>\n",
       "      <th>State/UnionTerritory</th>\n",
       "      <th>ConfirmedIndianNational</th>\n",
       "      <th>ConfirmedForeignNational</th>\n",
       "      <th>Cured</th>\n",
       "      <th>Deaths</th>\n",
       "      <th>Confirmed</th>\n",
       "    </tr>\n",
       "  </thead>\n",
       "  <tbody>\n",
       "    <tr>\n",
       "      <th>446</th>\n",
       "      <td>447.0</td>\n",
       "      <td>2020-03-29</td>\n",
       "      <td>7:30 PM</td>\n",
       "      <td>Andhra Pradesh</td>\n",
       "      <td>-</td>\n",
       "      <td>-</td>\n",
       "      <td>1.0</td>\n",
       "      <td>0.0</td>\n",
       "      <td>19.0</td>\n",
       "    </tr>\n",
       "    <tr>\n",
       "      <th>447</th>\n",
       "      <td>448.0</td>\n",
       "      <td>2020-03-29</td>\n",
       "      <td>7:30 PM</td>\n",
       "      <td>Andaman and Nicobar Islands</td>\n",
       "      <td>-</td>\n",
       "      <td>-</td>\n",
       "      <td>0.0</td>\n",
       "      <td>0.0</td>\n",
       "      <td>9.0</td>\n",
       "    </tr>\n",
       "    <tr>\n",
       "      <th>448</th>\n",
       "      <td>449.0</td>\n",
       "      <td>2020-03-29</td>\n",
       "      <td>7:30 PM</td>\n",
       "      <td>Bihar</td>\n",
       "      <td>-</td>\n",
       "      <td>-</td>\n",
       "      <td>0.0</td>\n",
       "      <td>1.0</td>\n",
       "      <td>11.0</td>\n",
       "    </tr>\n",
       "    <tr>\n",
       "      <th>449</th>\n",
       "      <td>450.0</td>\n",
       "      <td>2020-03-29</td>\n",
       "      <td>7:30 PM</td>\n",
       "      <td>Chandigarh</td>\n",
       "      <td>-</td>\n",
       "      <td>-</td>\n",
       "      <td>0.0</td>\n",
       "      <td>0.0</td>\n",
       "      <td>8.0</td>\n",
       "    </tr>\n",
       "    <tr>\n",
       "      <th>450</th>\n",
       "      <td>451.0</td>\n",
       "      <td>2020-03-29</td>\n",
       "      <td>7:30 PM</td>\n",
       "      <td>Chhattisgarh</td>\n",
       "      <td>-</td>\n",
       "      <td>-</td>\n",
       "      <td>0.0</td>\n",
       "      <td>0.0</td>\n",
       "      <td>7.0</td>\n",
       "    </tr>\n",
       "    <tr>\n",
       "      <th>...</th>\n",
       "      <td>...</td>\n",
       "      <td>...</td>\n",
       "      <td>...</td>\n",
       "      <td>...</td>\n",
       "      <td>...</td>\n",
       "      <td>...</td>\n",
       "      <td>...</td>\n",
       "      <td>...</td>\n",
       "      <td>...</td>\n",
       "    </tr>\n",
       "    <tr>\n",
       "      <th>15081</th>\n",
       "      <td>15082.0</td>\n",
       "      <td>2021-05-19</td>\n",
       "      <td>8:00 AM</td>\n",
       "      <td>Telangana</td>\n",
       "      <td>-</td>\n",
       "      <td>-</td>\n",
       "      <td>485644.0</td>\n",
       "      <td>3012.0</td>\n",
       "      <td>536766.0</td>\n",
       "    </tr>\n",
       "    <tr>\n",
       "      <th>15082</th>\n",
       "      <td>15083.0</td>\n",
       "      <td>2021-05-19</td>\n",
       "      <td>8:00 AM</td>\n",
       "      <td>Tripura</td>\n",
       "      <td>-</td>\n",
       "      <td>-</td>\n",
       "      <td>36402.0</td>\n",
       "      <td>450.0</td>\n",
       "      <td>42776.0</td>\n",
       "    </tr>\n",
       "    <tr>\n",
       "      <th>15083</th>\n",
       "      <td>15084.0</td>\n",
       "      <td>2021-05-19</td>\n",
       "      <td>8:00 AM</td>\n",
       "      <td>Uttarakhand</td>\n",
       "      <td>-</td>\n",
       "      <td>-</td>\n",
       "      <td>214426.0</td>\n",
       "      <td>5132.0</td>\n",
       "      <td>295790.0</td>\n",
       "    </tr>\n",
       "    <tr>\n",
       "      <th>15084</th>\n",
       "      <td>15085.0</td>\n",
       "      <td>2021-05-19</td>\n",
       "      <td>8:00 AM</td>\n",
       "      <td>Uttar Pradesh</td>\n",
       "      <td>-</td>\n",
       "      <td>-</td>\n",
       "      <td>1483249.0</td>\n",
       "      <td>18072.0</td>\n",
       "      <td>1637663.0</td>\n",
       "    </tr>\n",
       "    <tr>\n",
       "      <th>15085</th>\n",
       "      <td>15086.0</td>\n",
       "      <td>2021-05-19</td>\n",
       "      <td>8:00 AM</td>\n",
       "      <td>West Bengal</td>\n",
       "      <td>-</td>\n",
       "      <td>-</td>\n",
       "      <td>1026492.0</td>\n",
       "      <td>13576.0</td>\n",
       "      <td>1171861.0</td>\n",
       "    </tr>\n",
       "  </tbody>\n",
       "</table>\n",
       "<p>14640 rows × 9 columns</p>\n",
       "</div>"
      ],
      "text/plain": [
       "           Sno        Date     Time         State/UnionTerritory  \\\n",
       "446      447.0  2020-03-29  7:30 PM               Andhra Pradesh   \n",
       "447      448.0  2020-03-29  7:30 PM  Andaman and Nicobar Islands   \n",
       "448      449.0  2020-03-29  7:30 PM                        Bihar   \n",
       "449      450.0  2020-03-29  7:30 PM                   Chandigarh   \n",
       "450      451.0  2020-03-29  7:30 PM                 Chhattisgarh   \n",
       "...        ...         ...      ...                          ...   \n",
       "15081  15082.0  2021-05-19  8:00 AM                    Telangana   \n",
       "15082  15083.0  2021-05-19  8:00 AM                      Tripura   \n",
       "15083  15084.0  2021-05-19  8:00 AM                  Uttarakhand   \n",
       "15084  15085.0  2021-05-19  8:00 AM                Uttar Pradesh   \n",
       "15085  15086.0  2021-05-19  8:00 AM                  West Bengal   \n",
       "\n",
       "      ConfirmedIndianNational ConfirmedForeignNational      Cured   Deaths  \\\n",
       "446                         -                        -        1.0      0.0   \n",
       "447                         -                        -        0.0      0.0   \n",
       "448                         -                        -        0.0      1.0   \n",
       "449                         -                        -        0.0      0.0   \n",
       "450                         -                        -        0.0      0.0   \n",
       "...                       ...                      ...        ...      ...   \n",
       "15081                       -                        -   485644.0   3012.0   \n",
       "15082                       -                        -    36402.0    450.0   \n",
       "15083                       -                        -   214426.0   5132.0   \n",
       "15084                       -                        -  1483249.0  18072.0   \n",
       "15085                       -                        -  1026492.0  13576.0   \n",
       "\n",
       "       Confirmed  \n",
       "446         19.0  \n",
       "447          9.0  \n",
       "448         11.0  \n",
       "449          8.0  \n",
       "450          7.0  \n",
       "...          ...  \n",
       "15081   536766.0  \n",
       "15082    42776.0  \n",
       "15083   295790.0  \n",
       "15084  1637663.0  \n",
       "15085  1171861.0  \n",
       "\n",
       "[14640 rows x 9 columns]"
      ]
     },
     "execution_count": 142,
     "metadata": {},
     "output_type": "execute_result"
    }
   ],
   "source": [
    "df.query('ConfirmedIndianNational == \"-\"')"
   ]
  },
  {
   "cell_type": "code",
   "execution_count": 143,
   "id": "placed-jenny",
   "metadata": {},
   "outputs": [
    {
     "data": {
      "text/html": [
       "<div>\n",
       "<style scoped>\n",
       "    .dataframe tbody tr th:only-of-type {\n",
       "        vertical-align: middle;\n",
       "    }\n",
       "\n",
       "    .dataframe tbody tr th {\n",
       "        vertical-align: top;\n",
       "    }\n",
       "\n",
       "    .dataframe thead th {\n",
       "        text-align: right;\n",
       "    }\n",
       "</style>\n",
       "<table border=\"1\" class=\"dataframe\">\n",
       "  <thead>\n",
       "    <tr style=\"text-align: right;\">\n",
       "      <th></th>\n",
       "      <th>Sno</th>\n",
       "      <th>Date</th>\n",
       "      <th>Time</th>\n",
       "      <th>State/UnionTerritory</th>\n",
       "      <th>ConfirmedIndianNational</th>\n",
       "      <th>ConfirmedForeignNational</th>\n",
       "      <th>Cured</th>\n",
       "      <th>Deaths</th>\n",
       "      <th>Confirmed</th>\n",
       "    </tr>\n",
       "  </thead>\n",
       "  <tbody>\n",
       "    <tr>\n",
       "      <th>446</th>\n",
       "      <td>447.0</td>\n",
       "      <td>2020-03-29</td>\n",
       "      <td>7:30 PM</td>\n",
       "      <td>Andhra Pradesh</td>\n",
       "      <td>-</td>\n",
       "      <td>-</td>\n",
       "      <td>1.0</td>\n",
       "      <td>0.0</td>\n",
       "      <td>19.0</td>\n",
       "    </tr>\n",
       "    <tr>\n",
       "      <th>447</th>\n",
       "      <td>448.0</td>\n",
       "      <td>2020-03-29</td>\n",
       "      <td>7:30 PM</td>\n",
       "      <td>Andaman and Nicobar Islands</td>\n",
       "      <td>-</td>\n",
       "      <td>-</td>\n",
       "      <td>0.0</td>\n",
       "      <td>0.0</td>\n",
       "      <td>9.0</td>\n",
       "    </tr>\n",
       "    <tr>\n",
       "      <th>448</th>\n",
       "      <td>449.0</td>\n",
       "      <td>2020-03-29</td>\n",
       "      <td>7:30 PM</td>\n",
       "      <td>Bihar</td>\n",
       "      <td>-</td>\n",
       "      <td>-</td>\n",
       "      <td>0.0</td>\n",
       "      <td>1.0</td>\n",
       "      <td>11.0</td>\n",
       "    </tr>\n",
       "    <tr>\n",
       "      <th>449</th>\n",
       "      <td>450.0</td>\n",
       "      <td>2020-03-29</td>\n",
       "      <td>7:30 PM</td>\n",
       "      <td>Chandigarh</td>\n",
       "      <td>-</td>\n",
       "      <td>-</td>\n",
       "      <td>0.0</td>\n",
       "      <td>0.0</td>\n",
       "      <td>8.0</td>\n",
       "    </tr>\n",
       "    <tr>\n",
       "      <th>450</th>\n",
       "      <td>451.0</td>\n",
       "      <td>2020-03-29</td>\n",
       "      <td>7:30 PM</td>\n",
       "      <td>Chhattisgarh</td>\n",
       "      <td>-</td>\n",
       "      <td>-</td>\n",
       "      <td>0.0</td>\n",
       "      <td>0.0</td>\n",
       "      <td>7.0</td>\n",
       "    </tr>\n",
       "    <tr>\n",
       "      <th>...</th>\n",
       "      <td>...</td>\n",
       "      <td>...</td>\n",
       "      <td>...</td>\n",
       "      <td>...</td>\n",
       "      <td>...</td>\n",
       "      <td>...</td>\n",
       "      <td>...</td>\n",
       "      <td>...</td>\n",
       "      <td>...</td>\n",
       "    </tr>\n",
       "    <tr>\n",
       "      <th>15081</th>\n",
       "      <td>15082.0</td>\n",
       "      <td>2021-05-19</td>\n",
       "      <td>8:00 AM</td>\n",
       "      <td>Telangana</td>\n",
       "      <td>-</td>\n",
       "      <td>-</td>\n",
       "      <td>485644.0</td>\n",
       "      <td>3012.0</td>\n",
       "      <td>536766.0</td>\n",
       "    </tr>\n",
       "    <tr>\n",
       "      <th>15082</th>\n",
       "      <td>15083.0</td>\n",
       "      <td>2021-05-19</td>\n",
       "      <td>8:00 AM</td>\n",
       "      <td>Tripura</td>\n",
       "      <td>-</td>\n",
       "      <td>-</td>\n",
       "      <td>36402.0</td>\n",
       "      <td>450.0</td>\n",
       "      <td>42776.0</td>\n",
       "    </tr>\n",
       "    <tr>\n",
       "      <th>15083</th>\n",
       "      <td>15084.0</td>\n",
       "      <td>2021-05-19</td>\n",
       "      <td>8:00 AM</td>\n",
       "      <td>Uttarakhand</td>\n",
       "      <td>-</td>\n",
       "      <td>-</td>\n",
       "      <td>214426.0</td>\n",
       "      <td>5132.0</td>\n",
       "      <td>295790.0</td>\n",
       "    </tr>\n",
       "    <tr>\n",
       "      <th>15084</th>\n",
       "      <td>15085.0</td>\n",
       "      <td>2021-05-19</td>\n",
       "      <td>8:00 AM</td>\n",
       "      <td>Uttar Pradesh</td>\n",
       "      <td>-</td>\n",
       "      <td>-</td>\n",
       "      <td>1483249.0</td>\n",
       "      <td>18072.0</td>\n",
       "      <td>1637663.0</td>\n",
       "    </tr>\n",
       "    <tr>\n",
       "      <th>15085</th>\n",
       "      <td>15086.0</td>\n",
       "      <td>2021-05-19</td>\n",
       "      <td>8:00 AM</td>\n",
       "      <td>West Bengal</td>\n",
       "      <td>-</td>\n",
       "      <td>-</td>\n",
       "      <td>1026492.0</td>\n",
       "      <td>13576.0</td>\n",
       "      <td>1171861.0</td>\n",
       "    </tr>\n",
       "  </tbody>\n",
       "</table>\n",
       "<p>14640 rows × 9 columns</p>\n",
       "</div>"
      ],
      "text/plain": [
       "           Sno        Date     Time         State/UnionTerritory  \\\n",
       "446      447.0  2020-03-29  7:30 PM               Andhra Pradesh   \n",
       "447      448.0  2020-03-29  7:30 PM  Andaman and Nicobar Islands   \n",
       "448      449.0  2020-03-29  7:30 PM                        Bihar   \n",
       "449      450.0  2020-03-29  7:30 PM                   Chandigarh   \n",
       "450      451.0  2020-03-29  7:30 PM                 Chhattisgarh   \n",
       "...        ...         ...      ...                          ...   \n",
       "15081  15082.0  2021-05-19  8:00 AM                    Telangana   \n",
       "15082  15083.0  2021-05-19  8:00 AM                      Tripura   \n",
       "15083  15084.0  2021-05-19  8:00 AM                  Uttarakhand   \n",
       "15084  15085.0  2021-05-19  8:00 AM                Uttar Pradesh   \n",
       "15085  15086.0  2021-05-19  8:00 AM                  West Bengal   \n",
       "\n",
       "      ConfirmedIndianNational ConfirmedForeignNational      Cured   Deaths  \\\n",
       "446                         -                        -        1.0      0.0   \n",
       "447                         -                        -        0.0      0.0   \n",
       "448                         -                        -        0.0      1.0   \n",
       "449                         -                        -        0.0      0.0   \n",
       "450                         -                        -        0.0      0.0   \n",
       "...                       ...                      ...        ...      ...   \n",
       "15081                       -                        -   485644.0   3012.0   \n",
       "15082                       -                        -    36402.0    450.0   \n",
       "15083                       -                        -   214426.0   5132.0   \n",
       "15084                       -                        -  1483249.0  18072.0   \n",
       "15085                       -                        -  1026492.0  13576.0   \n",
       "\n",
       "       Confirmed  \n",
       "446         19.0  \n",
       "447          9.0  \n",
       "448         11.0  \n",
       "449          8.0  \n",
       "450          7.0  \n",
       "...          ...  \n",
       "15081   536766.0  \n",
       "15082    42776.0  \n",
       "15083   295790.0  \n",
       "15084  1637663.0  \n",
       "15085  1171861.0  \n",
       "\n",
       "[14640 rows x 9 columns]"
      ]
     },
     "execution_count": 143,
     "metadata": {},
     "output_type": "execute_result"
    }
   ],
   "source": [
    "df.query('ConfirmedForeignNational == \"-\"')"
   ]
  },
  {
   "cell_type": "markdown",
   "id": "advance-professional",
   "metadata": {},
   "source": [
    "## Major Issues with the Data Set\n",
    "\n",
    "#### 1. Data Set has 28 Nan Rows - As shown by df.info()\n",
    "#### 2. Time Column may not be of best use for any analysis - Values mostly same\n",
    "#### 3. State/UnionTerritory column can be changed to State_UT\n",
    "#### 4. ConfirmedIndianNational is string but it should be a float \n",
    "#### 5. ConfirmedForeignNational is string but it should be a float \n",
    "#### 6. ConfirmedIndianNational/ConfirmedForeignNational has '-' as values\n",
    "#### 7. State column has multiple rows for 'Telangana' and 'Telengana''\n",
    "#### 8. State column has multiple rows for 'Dadra and Nagar Haveli and Daman and Diu' and 'Daman & Diu'\n",
    "#### 9. State column has values like 'Cases being reassigned to states' and 'Unassigned'"
   ]
  },
  {
   "cell_type": "code",
   "execution_count": 144,
   "id": "wrapped-anatomy",
   "metadata": {},
   "outputs": [],
   "source": [
    "# Renaming column State/UnionTerritory to State_UT\n",
    "df = df.rename(columns={'State/UnionTerritory': 'State_UT'})"
   ]
  },
  {
   "cell_type": "code",
   "execution_count": 145,
   "id": "accurate-population",
   "metadata": {},
   "outputs": [
    {
     "data": {
      "text/plain": [
       "Index(['Sno', 'Date', 'Time', 'State_UT', 'ConfirmedIndianNational',\n",
       "       'ConfirmedForeignNational', 'Cured', 'Deaths', 'Confirmed'],\n",
       "      dtype='object')"
      ]
     },
     "execution_count": 145,
     "metadata": {},
     "output_type": "execute_result"
    }
   ],
   "source": [
    "# Verifying the updated column\n",
    "df.columns"
   ]
  },
  {
   "cell_type": "code",
   "execution_count": 146,
   "id": "pretty-electronics",
   "metadata": {},
   "outputs": [],
   "source": [
    "# Dropping rows with Nan values\n",
    "df.dropna(inplace= True)"
   ]
  },
  {
   "cell_type": "code",
   "execution_count": 147,
   "id": "fixed-twins",
   "metadata": {},
   "outputs": [
    {
     "data": {
      "text/plain": [
       "Sno                         0\n",
       "Date                        0\n",
       "Time                        0\n",
       "State_UT                    0\n",
       "ConfirmedIndianNational     0\n",
       "ConfirmedForeignNational    0\n",
       "Cured                       0\n",
       "Deaths                      0\n",
       "Confirmed                   0\n",
       "dtype: int64"
      ]
     },
     "execution_count": 147,
     "metadata": {},
     "output_type": "execute_result"
    }
   ],
   "source": [
    "# Verifying the Nan Rows\n",
    "df.isna().sum()"
   ]
  },
  {
   "cell_type": "code",
   "execution_count": 148,
   "id": "deluxe-movement",
   "metadata": {},
   "outputs": [],
   "source": [
    "# Converting 'Date' column to to_date format\n",
    "df['Date'] = pd.to_datetime(df['Date'])"
   ]
  },
  {
   "cell_type": "code",
   "execution_count": 149,
   "id": "visible-stamp",
   "metadata": {},
   "outputs": [],
   "source": [
    "# For column 'ConfirmedForeignNational' where data is '-' changing it with 0.0\n",
    "df['ConfirmedForeignNational'] = df.ConfirmedForeignNational.apply(lambda x: 0.0 if (x == '-') else x)"
   ]
  },
  {
   "cell_type": "code",
   "execution_count": 150,
   "id": "utility-catholic",
   "metadata": {},
   "outputs": [
    {
     "data": {
      "text/html": [
       "<div>\n",
       "<style scoped>\n",
       "    .dataframe tbody tr th:only-of-type {\n",
       "        vertical-align: middle;\n",
       "    }\n",
       "\n",
       "    .dataframe tbody tr th {\n",
       "        vertical-align: top;\n",
       "    }\n",
       "\n",
       "    .dataframe thead th {\n",
       "        text-align: right;\n",
       "    }\n",
       "</style>\n",
       "<table border=\"1\" class=\"dataframe\">\n",
       "  <thead>\n",
       "    <tr style=\"text-align: right;\">\n",
       "      <th></th>\n",
       "      <th>Sno</th>\n",
       "      <th>Date</th>\n",
       "      <th>Time</th>\n",
       "      <th>State_UT</th>\n",
       "      <th>ConfirmedIndianNational</th>\n",
       "      <th>ConfirmedForeignNational</th>\n",
       "      <th>Cured</th>\n",
       "      <th>Deaths</th>\n",
       "      <th>Confirmed</th>\n",
       "    </tr>\n",
       "  </thead>\n",
       "  <tbody>\n",
       "  </tbody>\n",
       "</table>\n",
       "</div>"
      ],
      "text/plain": [
       "Empty DataFrame\n",
       "Columns: [Sno, Date, Time, State_UT, ConfirmedIndianNational, ConfirmedForeignNational, Cured, Deaths, Confirmed]\n",
       "Index: []"
      ]
     },
     "execution_count": 150,
     "metadata": {},
     "output_type": "execute_result"
    }
   ],
   "source": [
    "# Verifying the above step\n",
    "df.query('ConfirmedForeignNational == \"-\"')"
   ]
  },
  {
   "cell_type": "code",
   "execution_count": 151,
   "id": "exclusive-corporation",
   "metadata": {},
   "outputs": [],
   "source": [
    "# For column 'ConfirmedIndianNational' where data is '-' changing it with 0.0\n",
    "df['ConfirmedIndianNational'] = df.ConfirmedIndianNational.apply(lambda x: 0.0 if (x == '-') else x)"
   ]
  },
  {
   "cell_type": "code",
   "execution_count": 152,
   "id": "successful-double",
   "metadata": {},
   "outputs": [
    {
     "data": {
      "text/html": [
       "<div>\n",
       "<style scoped>\n",
       "    .dataframe tbody tr th:only-of-type {\n",
       "        vertical-align: middle;\n",
       "    }\n",
       "\n",
       "    .dataframe tbody tr th {\n",
       "        vertical-align: top;\n",
       "    }\n",
       "\n",
       "    .dataframe thead th {\n",
       "        text-align: right;\n",
       "    }\n",
       "</style>\n",
       "<table border=\"1\" class=\"dataframe\">\n",
       "  <thead>\n",
       "    <tr style=\"text-align: right;\">\n",
       "      <th></th>\n",
       "      <th>Sno</th>\n",
       "      <th>Date</th>\n",
       "      <th>Time</th>\n",
       "      <th>State_UT</th>\n",
       "      <th>ConfirmedIndianNational</th>\n",
       "      <th>ConfirmedForeignNational</th>\n",
       "      <th>Cured</th>\n",
       "      <th>Deaths</th>\n",
       "      <th>Confirmed</th>\n",
       "    </tr>\n",
       "  </thead>\n",
       "  <tbody>\n",
       "  </tbody>\n",
       "</table>\n",
       "</div>"
      ],
      "text/plain": [
       "Empty DataFrame\n",
       "Columns: [Sno, Date, Time, State_UT, ConfirmedIndianNational, ConfirmedForeignNational, Cured, Deaths, Confirmed]\n",
       "Index: []"
      ]
     },
     "execution_count": 152,
     "metadata": {},
     "output_type": "execute_result"
    }
   ],
   "source": [
    "# Verifying the above step\n",
    "df.query('ConfirmedIndianNational == \"-\"')"
   ]
  },
  {
   "cell_type": "code",
   "execution_count": 153,
   "id": "shaped-october",
   "metadata": {},
   "outputs": [],
   "source": [
    "# Converting 'ConfirmedForeignNational' to float\n",
    "df[\"ConfirmedIndianNational\"] = pd.to_numeric(df[\"ConfirmedIndianNational\"], downcast=\"float\")"
   ]
  },
  {
   "cell_type": "code",
   "execution_count": 155,
   "id": "elder-report",
   "metadata": {},
   "outputs": [],
   "source": [
    "df[\"ConfirmedForeignNational\"] = pd.to_numeric(df[\"ConfirmedForeignNational\"], downcast=\"float\")"
   ]
  },
  {
   "cell_type": "code",
   "execution_count": 156,
   "id": "wicked-sector",
   "metadata": {},
   "outputs": [
    {
     "name": "stdout",
     "output_type": "stream",
     "text": [
      "<class 'pandas.core.frame.DataFrame'>\n",
      "Int64Index: 15086 entries, 0 to 15085\n",
      "Data columns (total 9 columns):\n",
      " #   Column                    Non-Null Count  Dtype         \n",
      "---  ------                    --------------  -----         \n",
      " 0   Sno                       15086 non-null  float64       \n",
      " 1   Date                      15086 non-null  datetime64[ns]\n",
      " 2   Time                      15086 non-null  object        \n",
      " 3   State_UT                  15086 non-null  object        \n",
      " 4   ConfirmedIndianNational   15086 non-null  float32       \n",
      " 5   ConfirmedForeignNational  15086 non-null  float32       \n",
      " 6   Cured                     15086 non-null  float64       \n",
      " 7   Deaths                    15086 non-null  float64       \n",
      " 8   Confirmed                 15086 non-null  float64       \n",
      "dtypes: datetime64[ns](1), float32(2), float64(4), object(2)\n",
      "memory usage: 1.0+ MB\n"
     ]
    }
   ],
   "source": [
    "df.info()"
   ]
  },
  {
   "cell_type": "code",
   "execution_count": 176,
   "id": "mexican-creator",
   "metadata": {},
   "outputs": [
    {
     "data": {
      "text/plain": [
       "array(['Kerala', 'Telengana', 'Delhi', 'Rajasthan', 'Uttar Pradesh',\n",
       "       'Haryana', 'Ladakh', 'Tamil Nadu', 'Karnataka', 'Maharashtra',\n",
       "       'Punjab', 'Jammu and Kashmir', 'Andhra Pradesh', 'Uttarakhand',\n",
       "       'Odisha', 'Puducherry', 'West Bengal', 'Chhattisgarh',\n",
       "       'Chandigarh', 'Gujarat', 'Himachal Pradesh', 'Madhya Pradesh',\n",
       "       'Bihar', 'Manipur', 'Mizoram', 'Andaman and Nicobar Islands',\n",
       "       'Goa', 'Assam', 'Jharkhand', 'Arunachal Pradesh', 'Tripura',\n",
       "       'Nagaland', 'Meghalaya',\n",
       "       'Dadra and Nagar Haveli and Daman and Diu', 'Sikkim',\n",
       "       'Daman & Diu', 'Lakshadweep', 'Telangana'], dtype=object)"
      ]
     },
     "execution_count": 176,
     "metadata": {},
     "output_type": "execute_result"
    }
   ],
   "source": [
    "df['State_UT'].unique()"
   ]
  },
  {
   "cell_type": "code",
   "execution_count": 169,
   "id": "worthy-girlfriend",
   "metadata": {},
   "outputs": [],
   "source": [
    "# Dropping wors with value as 'Cases being reassigned to states' in State\n",
    "df = df.drop(df.query('State_UT==\"Cases being reassigned to states\"').index)"
   ]
  },
  {
   "cell_type": "code",
   "execution_count": 172,
   "id": "dedicated-particular",
   "metadata": {},
   "outputs": [],
   "source": [
    "df = df.drop(df.query('State_UT==\"Unassigned\"').index)"
   ]
  },
  {
   "cell_type": "code",
   "execution_count": 179,
   "id": "prompt-diagnosis",
   "metadata": {},
   "outputs": [
    {
     "data": {
      "text/plain": [
       "Sno                         15023\n",
       "Date                          476\n",
       "Time                            7\n",
       "State_UT                       38\n",
       "ConfirmedIndianNational        61\n",
       "ConfirmedForeignNational       11\n",
       "Cured                       11520\n",
       "Deaths                       5026\n",
       "Confirmed                   12024\n",
       "dtype: int64"
      ]
     },
     "execution_count": 179,
     "metadata": {},
     "output_type": "execute_result"
    }
   ],
   "source": [
    "df.nunique()"
   ]
  },
  {
   "cell_type": "markdown",
   "id": "military-wheat",
   "metadata": {},
   "source": [
    "### Data shows State_UT has 38 Unique values - \n",
    "### But in India there are 28 States + 8 UT = 36 - This needs more exploration"
   ]
  },
  {
   "cell_type": "code",
   "execution_count": 182,
   "id": "overall-change",
   "metadata": {},
   "outputs": [
    {
     "data": {
      "text/plain": [
       "array(['Kerala', 'Telengana', 'Delhi', 'Rajasthan', 'Uttar Pradesh',\n",
       "       'Haryana', 'Ladakh', 'Tamil Nadu', 'Karnataka', 'Maharashtra',\n",
       "       'Punjab', 'Jammu and Kashmir', 'Andhra Pradesh', 'Uttarakhand',\n",
       "       'Odisha', 'Puducherry', 'West Bengal', 'Chhattisgarh',\n",
       "       'Chandigarh', 'Gujarat', 'Himachal Pradesh', 'Madhya Pradesh',\n",
       "       'Bihar', 'Manipur', 'Mizoram', 'Andaman and Nicobar Islands',\n",
       "       'Goa', 'Assam', 'Jharkhand', 'Arunachal Pradesh', 'Tripura',\n",
       "       'Nagaland', 'Meghalaya',\n",
       "       'Dadra and Nagar Haveli and Daman and Diu', 'Sikkim',\n",
       "       'Daman & Diu', 'Lakshadweep', 'Telangana'], dtype=object)"
      ]
     },
     "execution_count": 182,
     "metadata": {},
     "output_type": "execute_result"
    }
   ],
   "source": [
    "df['State_UT'].unique()"
   ]
  },
  {
   "cell_type": "code",
   "execution_count": 183,
   "id": "sound-court",
   "metadata": {},
   "outputs": [],
   "source": [
    "df_backup = df"
   ]
  },
  {
   "cell_type": "code",
   "execution_count": 185,
   "id": "prospective-development",
   "metadata": {},
   "outputs": [],
   "source": [
    "# Telangana is misplet at few places with 'Telengana' and 'Daman & Diu' is repeated\n",
    "df_backup['State_UT'] = df_backup.State_UT.apply(lambda x: 'Telangana' if (x == 'Telengana' or x == 'Telangana' ) else x)"
   ]
  },
  {
   "cell_type": "code",
   "execution_count": 189,
   "id": "palestinian-fossil",
   "metadata": {},
   "outputs": [],
   "source": [
    "df_backup['State_UT'] = df_backup.State_UT.apply(lambda x: 'Dadra and Nagar Haveli and Daman and Diu' if (x == 'Dadra and Nagar Haveli and Daman and Diu' or x == 'Daman & Diu' ) else x)"
   ]
  },
  {
   "cell_type": "code",
   "execution_count": 191,
   "id": "elect-distance",
   "metadata": {},
   "outputs": [
    {
     "data": {
      "text/plain": [
       "array(['Kerala', 'Telangana', 'Delhi', 'Rajasthan', 'Uttar Pradesh',\n",
       "       'Haryana', 'Ladakh', 'Tamil Nadu', 'Karnataka', 'Maharashtra',\n",
       "       'Punjab', 'Jammu and Kashmir', 'Andhra Pradesh', 'Uttarakhand',\n",
       "       'Odisha', 'Puducherry', 'West Bengal', 'Chhattisgarh',\n",
       "       'Chandigarh', 'Gujarat', 'Himachal Pradesh', 'Madhya Pradesh',\n",
       "       'Bihar', 'Manipur', 'Mizoram', 'Andaman and Nicobar Islands',\n",
       "       'Goa', 'Assam', 'Jharkhand', 'Arunachal Pradesh', 'Tripura',\n",
       "       'Nagaland', 'Meghalaya',\n",
       "       'Dadra and Nagar Haveli and Daman and Diu', 'Sikkim',\n",
       "       'Lakshadweep'], dtype=object)"
      ]
     },
     "execution_count": 191,
     "metadata": {},
     "output_type": "execute_result"
    }
   ],
   "source": [
    "df_backup['State_UT'].unique()"
   ]
  },
  {
   "cell_type": "code",
   "execution_count": 193,
   "id": "provincial-sheet",
   "metadata": {},
   "outputs": [
    {
     "data": {
      "text/plain": [
       "Sno                         15023\n",
       "Date                          476\n",
       "Time                            7\n",
       "State_UT                       36\n",
       "ConfirmedIndianNational        61\n",
       "ConfirmedForeignNational       11\n",
       "Cured                       11520\n",
       "Deaths                       5026\n",
       "Confirmed                   12024\n",
       "dtype: int64"
      ]
     },
     "execution_count": 193,
     "metadata": {},
     "output_type": "execute_result"
    }
   ],
   "source": [
    "df_backup.nunique()"
   ]
  },
  {
   "cell_type": "code",
   "execution_count": 199,
   "id": "primary-aberdeen",
   "metadata": {},
   "outputs": [
    {
     "name": "stdout",
     "output_type": "stream",
     "text": [
      "<class 'pandas.core.frame.DataFrame'>\n",
      "Int64Index: 15023 entries, 0 to 15085\n",
      "Data columns (total 9 columns):\n",
      " #   Column                    Non-Null Count  Dtype         \n",
      "---  ------                    --------------  -----         \n",
      " 0   Sno                       15023 non-null  float64       \n",
      " 1   Date                      15023 non-null  datetime64[ns]\n",
      " 2   Time                      15023 non-null  object        \n",
      " 3   State_UT                  15023 non-null  object        \n",
      " 4   ConfirmedIndianNational   15023 non-null  float32       \n",
      " 5   ConfirmedForeignNational  15023 non-null  float32       \n",
      " 6   Cured                     15023 non-null  float64       \n",
      " 7   Deaths                    15023 non-null  float64       \n",
      " 8   Confirmed                 15023 non-null  float64       \n",
      "dtypes: datetime64[ns](1), float32(2), float64(4), object(2)\n",
      "memory usage: 1.0+ MB\n"
     ]
    }
   ],
   "source": [
    "df_backup.info()"
   ]
  },
  {
   "cell_type": "code",
   "execution_count": null,
   "id": "military-obligation",
   "metadata": {},
   "outputs": [],
   "source": [
    "# Dropping Sno and Time Column"
   ]
  },
  {
   "cell_type": "code",
   "execution_count": 202,
   "id": "addressed-legislation",
   "metadata": {},
   "outputs": [],
   "source": [
    "df_backup.drop(['Sno', 'Time'], axis = 1, inplace = True)"
   ]
  },
  {
   "cell_type": "code",
   "execution_count": 204,
   "id": "worse-tourism",
   "metadata": {},
   "outputs": [
    {
     "name": "stdout",
     "output_type": "stream",
     "text": [
      "<class 'pandas.core.frame.DataFrame'>\n",
      "Int64Index: 15023 entries, 0 to 15085\n",
      "Data columns (total 7 columns):\n",
      " #   Column                    Non-Null Count  Dtype         \n",
      "---  ------                    --------------  -----         \n",
      " 0   Date                      15023 non-null  datetime64[ns]\n",
      " 1   State_UT                  15023 non-null  object        \n",
      " 2   ConfirmedIndianNational   15023 non-null  float32       \n",
      " 3   ConfirmedForeignNational  15023 non-null  float32       \n",
      " 4   Cured                     15023 non-null  float64       \n",
      " 5   Deaths                    15023 non-null  float64       \n",
      " 6   Confirmed                 15023 non-null  float64       \n",
      "dtypes: datetime64[ns](1), float32(2), float64(3), object(1)\n",
      "memory usage: 1.3+ MB\n"
     ]
    }
   ],
   "source": [
    "df_backup.info()"
   ]
  },
  {
   "cell_type": "code",
   "execution_count": 205,
   "id": "extraordinary-norwegian",
   "metadata": {},
   "outputs": [],
   "source": [
    "df_cleaned = df_backup"
   ]
  },
  {
   "cell_type": "code",
   "execution_count": 206,
   "id": "joined-school",
   "metadata": {},
   "outputs": [],
   "source": [
    "df_cleaned.to_csv('covid_19_india_cleaned.csv')"
   ]
  }
 ],
 "metadata": {
  "kernelspec": {
   "display_name": "Python 3",
   "language": "python",
   "name": "python3"
  },
  "language_info": {
   "codemirror_mode": {
    "name": "ipython",
    "version": 3
   },
   "file_extension": ".py",
   "mimetype": "text/x-python",
   "name": "python",
   "nbconvert_exporter": "python",
   "pygments_lexer": "ipython3",
   "version": "3.8.8"
  }
 },
 "nbformat": 4,
 "nbformat_minor": 5
}
